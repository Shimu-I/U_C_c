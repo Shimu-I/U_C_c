{
  "nbformat": 4,
  "nbformat_minor": 0,
  "metadata": {
    "colab": {
      "provenance": []
    },
    "kernelspec": {
      "name": "python3",
      "display_name": "Python 3"
    },
    "language_info": {
      "name": "python"
    }
  },
  "cells": [
    {
      "cell_type": "markdown",
      "source": [
        "## Basics"
      ],
      "metadata": {
        "id": "0GUecwIyB1YG"
      }
    },
    {
      "cell_type": "code",
      "execution_count": null,
      "metadata": {
        "id": "FlCvs8R--uIJ"
      },
      "outputs": [],
      "source": [
        "print(\"Hello World\")"
      ]
    },
    {
      "cell_type": "code",
      "source": [
        "# int a = 10,b = 20;\n",
        "a = 10\n",
        "b = 2.0\n",
        "c = 'AI'\n",
        "print(a,b,c)\n",
        "\n",
        "print(type(a))\n",
        "print(type(b))\n",
        "print(type(c))\n",
        "\n",
        "print(a + b)\n",
        "print(str(b) + c)"
      ],
      "metadata": {
        "id": "oVOx4zev-2Vm"
      },
      "execution_count": null,
      "outputs": []
    },
    {
      "cell_type": "code",
      "source": [
        "a,b,c = 10,20,'AI'\n",
        "a, b = b,a\n",
        "print(a,b,c)"
      ],
      "metadata": {
        "colab": {
          "base_uri": "https://localhost:8080/"
        },
        "id": "kKpr3q8SBWcF",
        "outputId": "9ceae198-589a-459c-d324-9b75b8b0fe3f"
      },
      "execution_count": null,
      "outputs": [
        {
          "output_type": "stream",
          "name": "stdout",
          "text": [
            "20 10 AI\n"
          ]
        }
      ]
    },
    {
      "cell_type": "code",
      "source": [
        "if a>b:\n",
        "  print(\"A is bigger\")\n",
        "  a = 10\n",
        "  b = 20\n",
        "elif b>a:\n",
        "  print(\"B is bigger\")\n",
        "else:\n",
        "  print('Same')\n",
        "print(a,b)"
      ],
      "metadata": {
        "id": "R6RUEbrnCIXm"
      },
      "execution_count": null,
      "outputs": []
    },
    {
      "cell_type": "code",
      "source": [
        "a = 5\n",
        "a +=1 #6\n",
        "a *= 2.0 # 12.0\n",
        "13.5 % 5.5\n",
        "a ** 2"
      ],
      "metadata": {
        "id": "wWVPDQQrDD9n"
      },
      "execution_count": null,
      "outputs": []
    },
    {
      "cell_type": "code",
      "source": [
        "# scanf\n",
        "# cin\n",
        "# scanner\n",
        "x = input(\"Enter a number\")\n",
        "x = int(x)\n",
        "print(type(x))\n",
        "int(x) + 10\n",
        "print(type(x))"
      ],
      "metadata": {
        "id": "v7BnfLgPEdoP"
      },
      "execution_count": null,
      "outputs": []
    },
    {
      "cell_type": "code",
      "source": [
        "students = 36\n",
        "pc = 35\n",
        "print(f\"There are {students} students in the class, but only {pc} pcs\")"
      ],
      "metadata": {
        "id": "Rt5b9bX1FK-m"
      },
      "execution_count": null,
      "outputs": []
    },
    {
      "cell_type": "markdown",
      "source": [
        "### Loop"
      ],
      "metadata": {
        "id": "kO6KADO6GKLD"
      }
    },
    {
      "cell_type": "code",
      "source": [
        "# for(int i=1;i<=10;i++)\n",
        "for i in range(1,20,2):\n",
        "  # print(i,end=' ')\n",
        "  print(i)\n",
        "\n",
        "for i in range(20,-1,-2):\n",
        "  print(i)\n",
        "\n",
        "for i in range(1,10):\n",
        "  for j in range(i+1,10):\n",
        "    print(j)"
      ],
      "metadata": {
        "id": "HYZ-j4cYGJiL"
      },
      "execution_count": null,
      "outputs": []
    },
    {
      "cell_type": "code",
      "source": [
        "num = 10\n",
        "while num != 0:\n",
        "  print(num)\n",
        "  num -= 1"
      ],
      "metadata": {
        "id": "cf_7IY6nJrdH"
      },
      "execution_count": null,
      "outputs": []
    },
    {
      "cell_type": "code",
      "source": [
        "marks = 87\n",
        "if marks >= 90:\n",
        "  print('A')\n",
        "elif marks >= 86 and marks <90:\n",
        "  print('A-')\n",
        "elif marks >= 55 or marks <=85:\n",
        "  print('Pass')"
      ],
      "metadata": {
        "id": "9oAzK3OVJ6_A"
      },
      "execution_count": null,
      "outputs": []
    },
    {
      "cell_type": "markdown",
      "source": [
        "### Functions"
      ],
      "metadata": {
        "id": "VpFfWZL3KmCA"
      }
    },
    {
      "cell_type": "code",
      "source": [
        "def printNumbers(n):\n",
        "  x = int(input())\n",
        "  for i in range(x,n):\n",
        "    print(i)\n",
        "printNumbers(5)"
      ],
      "metadata": {
        "id": "ndZZo9dOKo-v"
      },
      "execution_count": null,
      "outputs": []
    },
    {
      "cell_type": "code",
      "source": [
        "def calculateMarks(att,ct=0,mid=0,final=35):\n",
        "  return att+ct+mid+final\n",
        "\n",
        "# print(calculateMarks()) required 1 positional argument\n",
        "print(calculateMarks(5))\n",
        "print(calculateMarks(5,10))\n",
        "print(calculateMarks(ct=19,att=5))\n",
        "# print(calculateMarks(ct=19,5)) positional argument follows keyword argument\n",
        "print(calculateMarks(5,ct=19))\n",
        "print(calculateMarks(5,ct=19,final=37,mid=25))\n",
        "print(calculateMarks(final = 100,att=5))"
      ],
      "metadata": {
        "id": "0M3jAnJPLZKP"
      },
      "execution_count": null,
      "outputs": []
    },
    {
      "cell_type": "markdown",
      "source": [
        "### List (Heterogeneous Data Structure)"
      ],
      "metadata": {
        "id": "IqNCz_D4T-UR"
      }
    },
    {
      "cell_type": "code",
      "source": [
        "# int arr[] = {1,2,3,4,5}\n",
        "lst = list()\n",
        "print(type(lst))"
      ],
      "metadata": {
        "colab": {
          "base_uri": "https://localhost:8080/"
        },
        "id": "AcNRAujfUDRB",
        "outputId": "f801233c-891c-4bd5-ff06-9e1ba7d78a76"
      },
      "execution_count": null,
      "outputs": [
        {
          "output_type": "stream",
          "name": "stdout",
          "text": [
            "<class 'list'>\n"
          ]
        }
      ]
    },
    {
      "cell_type": "code",
      "source": [
        "lst = [1,2.0,'AI',4]\n",
        "lst"
      ],
      "metadata": {
        "colab": {
          "base_uri": "https://localhost:8080/"
        },
        "id": "u5OBZdY6UiyB",
        "outputId": "ee076fe3-7fb9-4c3c-cfb4-bae4417225db"
      },
      "execution_count": null,
      "outputs": [
        {
          "output_type": "execute_result",
          "data": {
            "text/plain": [
              "[1, 2.0, 'AI', 4]"
            ]
          },
          "metadata": {},
          "execution_count": 77
        }
      ]
    },
    {
      "cell_type": "code",
      "source": [
        "nums = []\n",
        "nums.append(1) # add an element to the end of the list\n",
        "print(nums)"
      ],
      "metadata": {
        "id": "gqNes4h3U8cJ"
      },
      "execution_count": null,
      "outputs": []
    },
    {
      "cell_type": "code",
      "source": [
        "lst.insert(2,'CSE 3812') # add an element to a specific index\n",
        "lst"
      ],
      "metadata": {
        "colab": {
          "base_uri": "https://localhost:8080/"
        },
        "id": "ip2gzsRCVWZR",
        "outputId": "740189aa-3999-4424-bd83-683d05efdf14"
      },
      "execution_count": null,
      "outputs": [
        {
          "output_type": "execute_result",
          "data": {
            "text/plain": [
              "[1, 2.0, 'CSE 3812', 'AI', 4]"
            ]
          },
          "metadata": {},
          "execution_count": 78
        }
      ]
    },
    {
      "cell_type": "code",
      "source": [
        "lst[2] = 3.0\n",
        "lst"
      ],
      "metadata": {
        "id": "FatC6TcGV7c6"
      },
      "execution_count": null,
      "outputs": []
    },
    {
      "cell_type": "code",
      "source": [
        "lst"
      ],
      "metadata": {
        "colab": {
          "base_uri": "https://localhost:8080/"
        },
        "id": "xhPPUqT3WMOp",
        "outputId": "74d02f3b-c59b-484e-b964-b08a47a26a90"
      },
      "execution_count": null,
      "outputs": [
        {
          "output_type": "execute_result",
          "data": {
            "text/plain": [
              "[1, 2.0, 'CSE 3812', 'AI', 4]"
            ]
          },
          "metadata": {},
          "execution_count": 79
        }
      ]
    },
    {
      "cell_type": "code",
      "source": [
        "lst.pop()"
      ],
      "metadata": {
        "colab": {
          "base_uri": "https://localhost:8080/"
        },
        "id": "Zio3ZIo3Wn1K",
        "outputId": "cc35f41e-d7e1-4242-adaa-81c11faef54b"
      },
      "execution_count": null,
      "outputs": [
        {
          "output_type": "execute_result",
          "data": {
            "text/plain": [
              "4"
            ]
          },
          "metadata": {},
          "execution_count": 80
        }
      ]
    },
    {
      "cell_type": "code",
      "source": [
        "lst.pop(1)"
      ],
      "metadata": {
        "colab": {
          "base_uri": "https://localhost:8080/"
        },
        "id": "rcnKKCMmWw_J",
        "outputId": "e319416b-5a9d-4e04-f22a-32ff8665ca2d"
      },
      "execution_count": null,
      "outputs": [
        {
          "output_type": "execute_result",
          "data": {
            "text/plain": [
              "2.0"
            ]
          },
          "metadata": {},
          "execution_count": 81
        }
      ]
    },
    {
      "cell_type": "code",
      "source": [
        "lst"
      ],
      "metadata": {
        "colab": {
          "base_uri": "https://localhost:8080/"
        },
        "id": "VsfLyGrGXHvq",
        "outputId": "d7785ed9-a224-49f3-89c1-5165899d4907"
      },
      "execution_count": null,
      "outputs": [
        {
          "output_type": "execute_result",
          "data": {
            "text/plain": [
              "[1, 'CSE 3812', 'AI']"
            ]
          },
          "metadata": {},
          "execution_count": 82
        }
      ]
    },
    {
      "cell_type": "code",
      "source": [
        "lst.remove('AI')"
      ],
      "metadata": {
        "id": "8ZjFm3Q8XQBh"
      },
      "execution_count": null,
      "outputs": []
    },
    {
      "cell_type": "code",
      "source": [
        "lst"
      ],
      "metadata": {
        "colab": {
          "base_uri": "https://localhost:8080/"
        },
        "id": "QPVJFhkjXaQp",
        "outputId": "fc0d8ef4-e137-4d79-ca15-93c3ca9803f2"
      },
      "execution_count": null,
      "outputs": [
        {
          "output_type": "execute_result",
          "data": {
            "text/plain": [
              "[1, 'CSE 3812']"
            ]
          },
          "metadata": {},
          "execution_count": 84
        }
      ]
    },
    {
      "cell_type": "code",
      "source": [
        "odd_nums = [1,3,5,7,9]\n",
        "even_nums = [2,4,6,8,10]\n",
        "nums = odd_nums+even_nums\n",
        "nums"
      ],
      "metadata": {
        "colab": {
          "base_uri": "https://localhost:8080/"
        },
        "id": "9OEU1mx7X1rR",
        "outputId": "8682bef5-dfa0-4e05-cb9c-2a840ebe242d"
      },
      "execution_count": null,
      "outputs": [
        {
          "output_type": "execute_result",
          "data": {
            "text/plain": [
              "[1, 3, 5, 7, 9, 2, 4, 6, 8, 10]"
            ]
          },
          "metadata": {},
          "execution_count": 88
        }
      ]
    },
    {
      "cell_type": "code",
      "source": [
        "nums = []\n",
        "nums.append(odd_nums)\n",
        "nums.append(even_nums)\n",
        "nums"
      ],
      "metadata": {
        "id": "SA9xDxzIYLOC"
      },
      "execution_count": null,
      "outputs": []
    },
    {
      "cell_type": "code",
      "source": [
        "nums=[]\n",
        "nums.extend(odd_nums)\n",
        "nums.extend(even_nums)\n",
        "nums"
      ],
      "metadata": {
        "id": "ZeIqFjm-Yl2B"
      },
      "execution_count": null,
      "outputs": []
    },
    {
      "cell_type": "code",
      "source": [
        "lst = [1,2,3]\n",
        "lst * 3"
      ],
      "metadata": {
        "id": "Y0rDbvxlZCfp"
      },
      "execution_count": null,
      "outputs": []
    },
    {
      "cell_type": "code",
      "source": [],
      "metadata": {
        "id": "uofsB2ZmZEIB"
      },
      "execution_count": null,
      "outputs": []
    }
  ]
}