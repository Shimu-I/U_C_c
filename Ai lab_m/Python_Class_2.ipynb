{
 "cells": [
  {
   "cell_type": "markdown",
   "metadata": {
    "id": "KdT87bqI-qSW"
   },
   "source": [
    "### List Slicing"
   ]
  },
  {
   "cell_type": "code",
   "execution_count": null,
   "metadata": {
    "colab": {
     "base_uri": "https://localhost:8080/"
    },
    "id": "rShQpYMs-k0k",
    "outputId": "30e5126a-dcb1-4582-ca1f-915f5ea2b420"
   },
   "outputs": [
    {
     "name": "stdout",
     "output_type": "stream",
     "text": [
      "[0, 1, 4, 9, 16, 25, 36, 49, 64, 81]\n"
     ]
    },
    {
     "data": {
      "text/plain": [
       "10"
      ]
     },
     "execution_count": 35,
     "metadata": {},
     "output_type": "execute_result"
    }
   ],
   "source": [
    "nums = [i**2 for i in range(10)] # list comprehension\n",
    "print(nums)\n",
    "len(nums)"
   ]
  },
  {
   "cell_type": "code",
   "execution_count": null,
   "metadata": {
    "id": "-utOtAXUHX9W"
   },
   "outputs": [],
   "source": [
    "for i in nums:\n",
    "  print(i)"
   ]
  },
  {
   "cell_type": "code",
   "execution_count": null,
   "metadata": {
    "id": "Mi_yrANN_6t-"
   },
   "outputs": [],
   "source": [
    "first_nums = nums[0:5]\n",
    "# last_nums = nums[]\n",
    "print(first_nums)\n",
    "last_nums = nums[5:]\n",
    "print(last_nums)\n",
    "\n",
    "arr = nums[:]\n",
    "print(arr)"
   ]
  },
  {
   "cell_type": "code",
   "execution_count": null,
   "metadata": {
    "id": "SjVXmHtoCQM3"
   },
   "outputs": [],
   "source": [
    "odd_nums = nums[1::2]\n",
    "print(odd_nums)\n",
    "\n",
    "print(nums[-1])\n",
    "\n",
    "reverse_nums = nums[::-1]\n",
    "print(reverse_nums)"
   ]
  },
  {
   "cell_type": "markdown",
   "metadata": {
    "id": "OljdVh83D1z_"
   },
   "source": [
    "### Tuple"
   ]
  },
  {
   "cell_type": "code",
   "execution_count": null,
   "metadata": {
    "id": "JZveNArVD4TG"
   },
   "outputs": [],
   "source": [
    "coordinates = (5,0)\n",
    "marks = [('A',90),('A-',86)]\n",
    "print(coordinates[0])\n",
    "print(marks[1][0])\n",
    "# coordinates[1] = 4"
   ]
  },
  {
   "cell_type": "markdown",
   "metadata": {
    "id": "ph_dglgHE9V3"
   },
   "source": [
    "### Dictionary"
   ]
  },
  {
   "cell_type": "code",
   "execution_count": null,
   "metadata": {
    "id": "-EItAr6aE__W"
   },
   "outputs": [],
   "source": [
    "student = {\n",
    "    'name':'Rahim',\n",
    "    'id':2,\n",
    "    'cgpa':3.73,\n",
    "    'courses':['AI','OS','DBMS'],\n",
    "    8:'trimester'\n",
    "}"
   ]
  },
  {
   "cell_type": "code",
   "execution_count": null,
   "metadata": {
    "id": "79omiSMtIpYA"
   },
   "outputs": [],
   "source": [
    "student['blood group'] = 'A+'\n",
    "student['cgpa'] = 3.76"
   ]
  },
  {
   "cell_type": "code",
   "execution_count": 1,
   "metadata": {
    "id": "g_w1uMihGfqH"
   },
   "outputs": [
    {
     "ename": "NameError",
     "evalue": "name 'student' is not defined",
     "output_type": "error",
     "traceback": [
      "\u001b[1;31m---------------------------------------------------------------------------\u001b[0m",
      "\u001b[1;31mNameError\u001b[0m                                 Traceback (most recent call last)",
      "Cell \u001b[1;32mIn[1], line 1\u001b[0m\n\u001b[1;32m----> 1\u001b[0m \u001b[43mstudent\u001b[49m\n\u001b[0;32m      2\u001b[0m \u001b[38;5;28mprint\u001b[39m(student\u001b[38;5;241m.\u001b[39mkeys())\n\u001b[0;32m      3\u001b[0m \u001b[38;5;28mprint\u001b[39m(student\u001b[38;5;241m.\u001b[39mvalues())\n",
      "\u001b[1;31mNameError\u001b[0m: name 'student' is not defined"
     ]
    }
   ],
   "source": [
    "student\n",
    "print(student.keys())\n",
    "print(student.values())\n",
    "print(student.items())"
   ]
  },
  {
   "cell_type": "code",
   "execution_count": null,
   "metadata": {
    "id": "GcEsyXjMHMZY"
   },
   "outputs": [],
   "source": [
    "for key in student:\n",
    "  print(key,student[key])"
   ]
  },
  {
   "cell_type": "code",
   "execution_count": null,
   "metadata": {
    "id": "Dx31S3UpIDIa"
   },
   "outputs": [],
   "source": [
    "for k,v in student.items():\n",
    "  print(k,v)"
   ]
  },
  {
   "cell_type": "code",
   "execution_count": null,
   "metadata": {
    "id": "Hr8NX5clGERn"
   },
   "outputs": [],
   "source": [
    "student['name']"
   ]
  },
  {
   "cell_type": "code",
   "execution_count": null,
   "metadata": {
    "id": "JGErXdpSGVzv"
   },
   "outputs": [],
   "source": [
    "student.get('id')"
   ]
  },
  {
   "cell_type": "markdown",
   "metadata": {
    "id": "4CJWSHBYJS0A"
   },
   "source": [
    "### Object"
   ]
  },
  {
   "cell_type": "code",
   "execution_count": null,
   "metadata": {
    "colab": {
     "base_uri": "https://localhost:8080/"
    },
    "id": "c-TzT3XvJSHp",
    "outputId": "1f6d4493-f23a-41fa-ca20-254e2957eb76"
   },
   "outputs": [
    {
     "name": "stdout",
     "output_type": "stream",
     "text": [
      "Rahim\n",
      "3.85\n",
      "Studying!!\n",
      "Rahim 10 5th\n"
     ]
    }
   ],
   "source": [
    "class student:\n",
    "  def __init__(self,name,id,cgpa,trimester):\n",
    "    self.name = name\n",
    "    self.id = id\n",
    "    self.__cgpa = cgpa\n",
    "    self.trimester = trimester\n",
    "\n",
    "\n",
    "  def getCgpa(self):\n",
    "    return self.__cgpa\n",
    "  @staticmethod\n",
    "  def study():\n",
    "    print(\"Studying!!\")\n",
    "\n",
    "  def __str__(self):\n",
    "    return self.name + \" \" + str(self. id) + \" \" + (self.trimester)\n",
    "\n",
    "\n",
    "st = student('Rahim',10,3.85,'5th')\n",
    "print(st.name)\n",
    "print(st.getCgpa())\n",
    "student.study()\n",
    "print(st)\n"
   ]
  },
  {
   "cell_type": "markdown",
   "metadata": {
    "id": "BeTH4SZ9SllT"
   },
   "source": [
    "## Numpy Library"
   ]
  },
  {
   "cell_type": "code",
   "execution_count": 5,
   "metadata": {
    "colab": {
     "base_uri": "https://localhost:8080/"
    },
    "id": "5Pq_y6QsSn97",
    "outputId": "4f92c5d6-3177-4845-96d5-61a190f4b7a0"
   },
   "outputs": [
    {
     "name": "stdout",
     "output_type": "stream",
     "text": [
      "<class 'list'> <class 'list'>\n"
     ]
    },
    {
     "data": {
      "text/plain": [
       "[1, 2, 3, 4, 5, 2, 3, 4, 5, 6]"
      ]
     },
     "execution_count": 5,
     "metadata": {},
     "output_type": "execute_result"
    }
   ],
   "source": [
    "lst1 = [1,2,3,4,5]\n",
    "lst2 = [2,3,4,5,6]\n",
    "print(type(lst1),type(lst2))\n",
    "lst1+lst2"
   ]
  },
  {
   "cell_type": "code",
   "execution_count": 3,
   "metadata": {
    "id": "Juy-2BRtTBD7"
   },
   "outputs": [],
   "source": [
    "# pip install numpy\n",
    "import numpy as np"
   ]
  },
  {
   "cell_type": "code",
   "execution_count": 6,
   "metadata": {
    "colab": {
     "base_uri": "https://localhost:8080/"
    },
    "id": "rbVMnubjTMp6",
    "outputId": "e09dea53-18e7-445b-911d-4044873a7f2c"
   },
   "outputs": [
    {
     "name": "stdout",
     "output_type": "stream",
     "text": [
      "<class 'numpy.ndarray'> <class 'numpy.ndarray'>\n",
      "[ 3  5  7  9 11]\n",
      "[1, 2, 3, 4, 5, 1, 2, 3, 4, 5, 1, 2, 3, 4, 5]\n",
      "[ 3  6  9 12 15]\n"
     ]
    }
   ],
   "source": [
    "arr1 = np.array([1,2,3,4,5])\n",
    "arr2 = np.array([2,3,4,5,6])\n",
    "print(type(arr1),type(arr2))\n",
    "print(arr1 + arr2)\n",
    "print(lst1 * 3)\n",
    "print(arr1 * 3)"
   ]
  },
  {
   "cell_type": "code",
   "execution_count": 8,
   "metadata": {
    "colab": {
     "base_uri": "https://localhost:8080/"
    },
    "id": "xAPqC5GuTzV6",
    "outputId": "e87abdb0-ac6f-43b4-9219-b68cf1265679"
   },
   "outputs": [
    {
     "name": "stdout",
     "output_type": "stream",
     "text": [
      "(5,)\n",
      "(2, 3)\n"
     ]
    }
   ],
   "source": [
    "print(arr1.shape)\n",
    "\n",
    "mat = np.array([\n",
    "    [1,2,3],\n",
    "    [4,5,6]])\n",
    "print(mat.shape)"
   ]
  },
  {
   "cell_type": "code",
   "execution_count": 9,
   "metadata": {
    "id": "ypKkmcmRUvub"
   },
   "outputs": [
    {
     "name": "stdout",
     "output_type": "stream",
     "text": [
      "[1 2 3 4 5 6]\n",
      "[[1 2 3 4 5]]\n",
      "[[1]\n",
      " [2]\n",
      " [3]\n",
      " [4]\n",
      " [5]]\n"
     ]
    }
   ],
   "source": [
    "# reshaping an array\n",
    "print(mat.reshape((6,)))\n",
    "print(arr1.reshape((1,5)))\n",
    "print(arr1.reshape((5,1)))"
   ]
  },
  {
   "cell_type": "code",
   "execution_count": 10,
   "metadata": {
    "id": "poKH3EJkV-iT"
   },
   "outputs": [
    {
     "name": "stdout",
     "output_type": "stream",
     "text": [
      "[[0.48069599 0.33560703]\n",
      " [0.74166247 0.35395043]]\n",
      "[[0 4 5]\n",
      " [2 8 4]\n",
      " [2 4 1]]\n"
     ]
    }
   ],
   "source": [
    "mat = np.random.random((2,2))\n",
    "print(mat)\n",
    "int_mat = np.random.randint(10,size=(3,3))\n",
    "print(int_mat)"
   ]
  },
  {
   "cell_type": "code",
   "execution_count": 11,
   "metadata": {
    "id": "0FP7us5RW60z"
   },
   "outputs": [
    {
     "name": "stdout",
     "output_type": "stream",
     "text": [
      "[[0 0]\n",
      " [0 0]]\n",
      "[[1. 1.]\n",
      " [1. 1.]]\n",
      "[[1. 0. 0.]\n",
      " [0. 1. 0.]\n",
      " [0. 0. 1.]]\n"
     ]
    }
   ],
   "source": [
    "zero_mat = np.zeros((2,2),dtype = 'int64')\n",
    "print(zero_mat)\n",
    "ones_mat = np.ones((2,2))\n",
    "print(ones_mat)\n",
    "identity_mat = np.eye(3)\n",
    "print(identity_mat)"
   ]
  },
  {
   "cell_type": "markdown",
   "metadata": {
    "id": "tpVXS_wGX2eU"
   },
   "source": [
    "### Slicing"
   ]
  },
  {
   "cell_type": "code",
   "execution_count": 12,
   "metadata": {
    "id": "bAnsASfSXw8k"
   },
   "outputs": [
    {
     "data": {
      "text/plain": [
       "array([1, 2, 3])"
      ]
     },
     "execution_count": 12,
     "metadata": {},
     "output_type": "execute_result"
    }
   ],
   "source": [
    "arr1 = np.array([1,2,3,4,5])\n",
    "arr1[:3]"
   ]
  },
  {
   "cell_type": "code",
   "execution_count": 13,
   "metadata": {
    "id": "rcq2TOsMYGNE"
   },
   "outputs": [],
   "source": [
    "mat = np.array([\n",
    "    [1,2,3],\n",
    "    [4,5,6]]) #[[1,2],[4,5]]"
   ]
  },
  {
   "cell_type": "code",
   "execution_count": 14,
   "metadata": {
    "id": "565htggDYL6i"
   },
   "outputs": [
    {
     "name": "stdout",
     "output_type": "stream",
     "text": [
      "[[1 2]\n",
      " [4 5]]\n"
     ]
    }
   ],
   "source": [
    "temp = mat[:,:-1]\n",
    "print(temp)"
   ]
  },
  {
   "cell_type": "code",
   "execution_count": 15,
   "metadata": {
    "id": "egXXfRNIZEHL"
   },
   "outputs": [
    {
     "name": "stdout",
     "output_type": "stream",
     "text": [
      "[[1 3]\n",
      " [4 6]]\n"
     ]
    }
   ],
   "source": [
    "mat = np.array([\n",
    "    [1,2,3],\n",
    "    [4,5,6]]) #[[1,3],[4,6]]\n",
    "temp = mat[:,::2]\n",
    "print(temp)"
   ]
  },
  {
   "cell_type": "code",
   "execution_count": 16,
   "metadata": {
    "id": "UOd33f9xZG1z"
   },
   "outputs": [
    {
     "name": "stdout",
     "output_type": "stream",
     "text": [
      "[[1 3]\n",
      " [7 9]]\n"
     ]
    }
   ],
   "source": [
    "mat = np.array([\n",
    "    [1,2,3],\n",
    "    [4,5,6],\n",
    "    [7,8,9]]) #[[1,3],[7,9]]\n",
    "temp = mat[::2,::2]\n",
    "print(temp)"
   ]
  },
  {
   "cell_type": "code",
   "execution_count": 21,
   "metadata": {
    "id": "skYc4fRBZ9c8"
   },
   "outputs": [
    {
     "name": "stdout",
     "output_type": "stream",
     "text": [
      "[[5 6]\n",
      " [8 9]]\n"
     ]
    }
   ],
   "source": [
    "mat = np.array([\n",
    "    [1,2,3],\n",
    "    [4,5,6],\n",
    "    [7,8,9]]) #[[5,6],[8,9]]\n",
    "temp = mat[1::,1::]\n",
    "print(temp)"
   ]
  },
  {
   "cell_type": "markdown",
   "metadata": {
    "id": "euZm49ryaki0"
   },
   "source": [
    "### Axis summation"
   ]
  },
  {
   "cell_type": "code",
   "execution_count": 22,
   "metadata": {
    "colab": {
     "base_uri": "https://localhost:8080/"
    },
    "id": "TN_oW0g2af-N",
    "outputId": "d49988ce-8570-45bc-ead7-016ac2f795d5"
   },
   "outputs": [
    {
     "name": "stdout",
     "output_type": "stream",
     "text": [
      "15\n"
     ]
    }
   ],
   "source": [
    "arr1 = np.array([1,2,3,4,5])\n",
    "print(np.sum(arr1))"
   ]
  },
  {
   "cell_type": "code",
   "execution_count": 23,
   "metadata": {
    "colab": {
     "base_uri": "https://localhost:8080/"
    },
    "id": "TgXfa5NBa5Yz",
    "outputId": "ddc53321-4fba-48a5-a79b-0774348fa4a0"
   },
   "outputs": [
    {
     "name": "stdout",
     "output_type": "stream",
     "text": [
      "(2, 3)\n",
      "21\n",
      "[5 7 9]\n",
      "[ 6 15]\n"
     ]
    }
   ],
   "source": [
    "mat = np.array([\n",
    "    [1,2,3],\n",
    "    [4,5,6]])\n",
    "print(mat.shape)\n",
    "print(np.sum(mat))\n",
    "print(np.sum(mat,axis=0)) # column-wise\n",
    "print(np.sum(mat,axis=1)) # row-wise"
   ]
  },
  {
   "cell_type": "code",
   "execution_count": 24,
   "metadata": {
    "colab": {
     "base_uri": "https://localhost:8080/"
    },
    "id": "tB93a1hVcGe1",
    "outputId": "d474b722-8259-4d08-848f-4477e44461ea"
   },
   "outputs": [
    {
     "name": "stdout",
     "output_type": "stream",
     "text": [
      "(2, 3, 3)\n",
      "------------\n",
      "[[ 2  4  6]\n",
      " [ 8 10 12]\n",
      " [14 16 18]]\n",
      "------------\n",
      "[[12 15 18]\n",
      " [12 15 18]]\n",
      "------------\n",
      "[[ 6 15 24]\n",
      " [ 6 15 24]]\n"
     ]
    }
   ],
   "source": [
    "mat = np.array([\n",
    "    [\n",
    "      [1,2,3],\n",
    "      [4,5,6],\n",
    "      [7,8,9]\n",
    "    ],\n",
    "    [\n",
    "      [1,2,3],\n",
    "      [4,5,6],\n",
    "      [7,8,9]\n",
    "    ]\n",
    "    ])\n",
    "print(mat.shape)\n",
    "print(\"------------\")\n",
    "print(np.sum(mat,axis=0))\n",
    "print(\"------------\")\n",
    "print(np.sum(mat,axis=1))\n",
    "print(\"------------\")\n",
    "print(np.sum(mat,axis=2))"
   ]
  }
 ],
 "metadata": {
  "colab": {
   "provenance": []
  },
  "kernelspec": {
   "display_name": "Python 3",
   "name": "python3"
  },
  "language_info": {
   "codemirror_mode": {
    "name": "ipython",
    "version": 3
   },
   "file_extension": ".py",
   "mimetype": "text/x-python",
   "name": "python",
   "nbconvert_exporter": "python",
   "pygments_lexer": "ipython3",
   "version": "3.13.0"
  }
 },
 "nbformat": 4,
 "nbformat_minor": 0
}
